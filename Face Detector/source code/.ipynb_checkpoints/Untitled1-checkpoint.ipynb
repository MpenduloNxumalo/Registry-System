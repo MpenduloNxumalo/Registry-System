{
 "cells": [
  {
   "cell_type": "code",
   "execution_count": 3,
   "id": "d02b7ed1",
   "metadata": {},
   "outputs": [],
   "source": [
    "import cv2\n",
    "from simple_facerec import SimpleFacerec"
   ]
  },
  {
   "cell_type": "code",
   "execution_count": 4,
   "id": "110dc57f",
   "metadata": {},
   "outputs": [
    {
     "name": "stdout",
     "output_type": "stream",
     "text": [
      "5 encoding images found.\n",
      "Encoding images loaded\n"
     ]
    }
   ],
   "source": [
    "sfr = SimpleFacerec()\n",
    "sfr.load_encoding_images(\"images/\")"
   ]
  },
  {
   "cell_type": "code",
   "execution_count": null,
   "id": "e6835648",
   "metadata": {},
   "outputs": [],
   "source": []
  }
 ],
 "metadata": {
  "kernelspec": {
   "display_name": "Python 3",
   "language": "python",
   "name": "python3"
  },
  "language_info": {
   "codemirror_mode": {
    "name": "ipython",
    "version": 3
   },
   "file_extension": ".py",
   "mimetype": "text/x-python",
   "name": "python",
   "nbconvert_exporter": "python",
   "pygments_lexer": "ipython3",
   "version": "3.8.8"
  }
 },
 "nbformat": 4,
 "nbformat_minor": 5
}
